{
 "cells": [
  {
   "cell_type": "code",
   "execution_count": 17,
   "metadata": {},
   "outputs": [],
   "source": [
    "from random import random\n",
    "import operator\n",
    "from functools import reduce\n",
    "from collections import namedtuple\n",
    "from queue import PriorityQueue, SimpleQueue, LifoQueue\n",
    "\n",
    "import numpy as np"
   ]
  },
  {
   "cell_type": "code",
   "execution_count": 18,
   "metadata": {},
   "outputs": [],
   "source": [
    "PROBLEM_SIZE = 5\n",
    "NUM_SETS = 10\n",
    "SETS = tuple(\n",
    "    np.array([random() < 0.3 for _ in range(PROBLEM_SIZE)]) for _ in range(NUM_SETS)\n",
    ")\n",
    "State = namedtuple(\"State\", [\"taken\", \"not_taken\"])"
   ]
  },
  {
   "cell_type": "code",
   "execution_count": 19,
   "metadata": {},
   "outputs": [],
   "source": [
    "def goal_check(state):\n",
    "    return np.all(\n",
    "        reduce(\n",
    "            np.logical_or,\n",
    "            [SETS[i] for i in state.taken],\n",
    "            np.array([False for _ in range(PROBLEM_SIZE)]),\n",
    "        )\n",
    "    )\n",
    "\n",
    "#Distanza dalla copertura completa del nuovo stato. Più basso = più coperto\n",
    "def distance(state):\n",
    "    return PROBLEM_SIZE - sum(\n",
    "        reduce(\n",
    "            np.logical_or,\n",
    "            [SETS[i] for i in state.taken],\n",
    "            np.array([False for _ in range(PROBLEM_SIZE)]),\n",
    "        )\n",
    "    )"
   ]
  },
  {
   "cell_type": "code",
   "execution_count": 20,
   "metadata": {},
   "outputs": [],
   "source": [
    "assert goal_check(State(set(range(NUM_SETS)), set())), \"Problem not solvable\""
   ]
  },
  {
   "cell_type": "markdown",
   "metadata": {},
   "source": [
    "SimpleQueue = FIFO -> **Breadth** first\n",
    "\n",
    "LifoQueue -> **Depth** first\n",
    " - Molto veloce\n",
    " - Soluzione sub-optimale, possibilmente contiene più elementi di quelli necessari per la soluzione minima (***es*** 5 step 5 tiles/sets rispetto a 26 steps e 2 tiles/sets del breadth)"
   ]
  },
  {
   "cell_type": "code",
   "execution_count": 30,
   "metadata": {},
   "outputs": [
    {
     "name": "stdout",
     "output_type": "stream",
     "text": [
      "Solved in 3 steps (3 tiles)\n"
     ]
    }
   ],
   "source": [
    "frontier = PriorityQueue()\n",
    "state = State(set(), set(range(NUM_SETS)))\n",
    "frontier.put((distance(state), state))\n",
    "\n",
    "counter = 0\n",
    "_, current_state = frontier.get()\n",
    "while not goal_check(current_state):\n",
    "    counter += 1\n",
    "    for action in current_state.not_taken:\n",
    "        new_state = State(\n",
    "            current_state.taken ^ {action}, current_state.not_taken ^ {action}\n",
    "        )\n",
    "        frontier.put((distance(new_state), new_state))\n",
    "    _, current_state = frontier.get()\n",
    "\n",
    "print(f\"Solved in {counter:,} steps ({len(current_state.taken)} tiles)\")"
   ]
  },
  {
   "cell_type": "code",
   "execution_count": 32,
   "metadata": {},
   "outputs": [
    {
     "data": {
      "text/plain": [
       "State(taken={0, 9, 1}, not_taken={2, 3, 4, 5, 6, 7, 8})"
      ]
     },
     "execution_count": 32,
     "metadata": {},
     "output_type": "execute_result"
    }
   ],
   "source": [
    "current_state"
   ]
  },
  {
   "cell_type": "code",
   "execution_count": 23,
   "metadata": {},
   "outputs": [
    {
     "data": {
      "text/plain": [
       "(array([ True,  True, False, False,  True]),\n",
       " array([False, False, False,  True,  True]),\n",
       " array([False, False, False, False, False]),\n",
       " array([False,  True, False, False, False]),\n",
       " array([False,  True, False, False, False]),\n",
       " array([False, False, False,  True, False]),\n",
       " array([False,  True, False, False, False]),\n",
       " array([False, False, False, False, False]),\n",
       " array([False, False, False, False, False]),\n",
       " array([False, False,  True, False, False]))"
      ]
     },
     "execution_count": 23,
     "metadata": {},
     "output_type": "execute_result"
    }
   ],
   "source": [
    "SETS"
   ]
  },
  {
   "cell_type": "code",
   "execution_count": 24,
   "metadata": {},
   "outputs": [
    {
     "data": {
      "text/plain": [
       "True"
      ]
     },
     "execution_count": 24,
     "metadata": {},
     "output_type": "execute_result"
    }
   ],
   "source": [
    "goal_check(current_state)"
   ]
  },
  {
   "cell_type": "markdown",
   "metadata": {},
   "source": [
    "In some cases the greedy approcach doesn't return the best possible solution because it started moving in one direction but was not the best one to continue with\n",
    "\n",
    "# Examples\n",
    "Without greedy we obtain the best solution\n",
    "\n",
    "![Image of the result without greedy](Images\\Best_in_greedy_without.png \"With greedy\")\n",
    "\n",
    "With greedy we obtain the best solution with the starting point taken\n",
    "\n",
    "![Image of the result with greedy approach](Images\\Best_in_greedy_with.png \"With greedy\")\n"
   ]
  },
  {
   "cell_type": "markdown",
   "metadata": {},
   "source": []
  }
 ],
 "metadata": {
  "kernelspec": {
   "display_name": "Python 3.11.0 ('venv': venv)",
   "language": "python",
   "name": "python3"
  },
  "language_info": {
   "codemirror_mode": {
    "name": "ipython",
    "version": 3
   },
   "file_extension": ".py",
   "mimetype": "text/x-python",
   "name": "python",
   "nbconvert_exporter": "python",
   "pygments_lexer": "ipython3",
   "version": "3.11.0"
  },
  "orig_nbformat": 4,
  "vscode": {
   "interpreter": {
    "hash": "e8b3145ae2f8986a382e1d29057a790087de06911369db9ba2490276da319dff"
   }
  }
 },
 "nbformat": 4,
 "nbformat_minor": 2
}
