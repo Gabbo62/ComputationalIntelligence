{
 "cells": [
  {
   "cell_type": "code",
   "execution_count": 40,
   "id": "3ffe7245-e849-41d0-9698-5f0e0b83fee9",
   "metadata": {},
   "outputs": [],
   "source": [
    "from itertools import product\n",
    "from random import random, randint, shuffle, seed\n",
    "import numpy as np\n",
    "from scipy import sparse\n",
    "\n",
    "from functools import reduce\n",
    "from collections import namedtuple\n",
    "from copy import copy\n",
    "from tqdm import tqdm"
   ]
  },
  {
   "cell_type": "code",
   "execution_count": 41,
   "id": "6f03bd67-78a0-4d72-95b7-77a918727b91",
   "metadata": {},
   "outputs": [],
   "source": [
    "def make_set_covering_problem(num_points, num_sets, density):\n",
    "    \"\"\"Returns a sparse array where rows are sets and columns are the covered items\"\"\"\n",
    "    seed(num_points*2654435761+num_sets+density)\n",
    "    sets = sparse.lil_array((num_sets, num_points), dtype=bool)\n",
    "    for s, p in product(range(num_sets), range(num_points)):\n",
    "        if random() < density:\n",
    "            sets[s, p] = True\n",
    "    for p in range(num_points):\n",
    "        sets[randint(0, num_sets-1), p] = True\n",
    "    return sets"
   ]
  },
  {
   "cell_type": "markdown",
   "id": "82b0be37-21d9-492d-9a1d-cf0cdf0ddd76",
   "metadata": {},
   "source": [
    "# Halloween Challenge\n",
    "\n",
    "Find the best solution with the fewest calls to the fitness functions for:\n",
    "\n",
    "* `num_points = [100, 1_000, 5_000]`\n",
    "* `num_sets = num_points`\n",
    "* `density = [.3, .7]` "
   ]
  },
  {
   "cell_type": "code",
   "execution_count": 42,
   "id": "221ffdba-5d3d-48cc-bd08-45ccc9366ea6",
   "metadata": {},
   "outputs": [
    {
     "name": "stdout",
     "output_type": "stream",
     "text": [
      "Element at row=42 and column=42: True\n"
     ]
    }
   ],
   "source": [
    "num_points = num_sets = 5000\n",
    "density = .3\n",
    "\n",
    "x = make_set_covering_problem(num_points, num_sets, density)\n",
    "print(\"Element at row=42 and column=42:\", x[42, 42])"
   ]
  },
  {
   "cell_type": "code",
   "execution_count": 43,
   "id": "6492337b-8429-472d-9c3e-c79c5b46da54",
   "metadata": {},
   "outputs": [],
   "source": [
    "State = namedtuple(\"State\", [\"taken\", \"not_taken\"])\n",
    "\n",
    "\n",
    "def goal_check(state):\n",
    "    return np.all(\n",
    "        reduce(\n",
    "            np.logical_or,\n",
    "            [x.getrow(i).tocsr().toarray() for i in state.taken],\n",
    "            [False for _ in range(num_points)],\n",
    "        )\n",
    "    )\n"
   ]
  },
  {
   "cell_type": "code",
   "execution_count": 44,
   "id": "45bd0643",
   "metadata": {},
   "outputs": [],
   "source": [
    "assert goal_check(State(set(range(num_sets)), set())), \"Problem not solvable\""
   ]
  },
  {
   "cell_type": "code",
   "execution_count": 45,
   "id": "10a6d72e",
   "metadata": {},
   "outputs": [],
   "source": [
    "def random_tweak(state):\n",
    "    index = randint(0, num_points-1)\n",
    "    new_state = State(state.taken ^ {index}, state.not_taken ^ {index})\n",
    "    return new_state\n",
    "\n",
    "\n",
    "def evaluate1(state):\n",
    "    return np.sum(\n",
    "        reduce(\n",
    "            np.logical_or,\n",
    "            [x.getrow(i).tocsr().toarray() for i in state.taken],\n",
    "            [False for _ in range(num_points)],\n",
    "        )\n",
    "    ), -len(state.taken)\n"
   ]
  },
  {
   "cell_type": "code",
   "execution_count": 46,
   "id": "10871ac4",
   "metadata": {},
   "outputs": [],
   "source": [
    "def covered(state):\n",
    "    return reduce(\n",
    "        np.logical_or,\n",
    "        (x.getrow(i).tocsr().toarray() for i in state.taken),\n",
    "        [False for _ in range(num_points)],\n",
    "    )\n",
    "\n",
    "\n",
    "def max_cover_tweak(state):\n",
    "    cover = covered(state)\n",
    "\n",
    "    _, best = max(\n",
    "        (\n",
    "            (np.sum(np.logical_and(x.getrow(i).tocsr().toarray(), np.logical_not(cover))), i)\n",
    "            for i in state.not_taken\n",
    "        )\n",
    "    )\n",
    "\n",
    "    new_state = State(state.taken ^ {best}, state.not_taken ^ {best})\n",
    "\n",
    "    return new_state\n"
   ]
  },
  {
   "cell_type": "markdown",
   "id": "b8fa9679",
   "metadata": {},
   "source": [
    "`evaluate2` resulted to be too slow for this kind of approach"
   ]
  },
  {
   "cell_type": "code",
   "execution_count": 47,
   "id": "9d2ae496",
   "metadata": {},
   "outputs": [],
   "source": [
    "def max_left(state):    \n",
    "    _, res = max(\n",
    "        (np.sum(\n",
    "            np.logical_and(x.getrow(i).tocsr().toarray(), np.logical_not(covered(state)))\n",
    "        ), i) for i in state.not_taken\n",
    "    )\n",
    "    return res\n",
    "\n",
    "def evaluate2(state):\n",
    "    starting_steps = len(state.taken)\n",
    "    iter_state = copy(state)\n",
    "    \n",
    "    while not goal_check(iter_state):\n",
    "        max = max_left(iter_state)\n",
    "        iter_state = State(iter_state.taken ^ {max},\n",
    "                       iter_state.not_taken ^ {max})\n",
    "    \n",
    "    return np.sum(covered(state)), -len(state), -(len(state.taken) - starting_steps)"
   ]
  },
  {
   "cell_type": "code",
   "execution_count": 48,
   "id": "553d1127",
   "metadata": {},
   "outputs": [],
   "source": [
    "def run_alg(tweak, evaluate):\n",
    "    print(tweak.__name__, evaluate.__name__)\n",
    "    current_state = State(set(), set(range(num_points)))\n",
    "    \n",
    "    with tqdm(total=None) as pbar:\n",
    "        while not goal_check(current_state):\n",
    "            new_state = tweak(current_state)\n",
    "            if evaluate(new_state) > evaluate(current_state):\n",
    "                current_state = new_state\n",
    "            pbar.update(1)\n",
    "        \n",
    "    print(current_state.taken)"
   ]
  },
  {
   "cell_type": "code",
   "execution_count": 50,
   "id": "170a8608",
   "metadata": {},
   "outputs": [
    {
     "name": "stdout",
     "output_type": "stream",
     "text": [
      "random_tweak evaluate1\n"
     ]
    },
    {
     "name": "stderr",
     "output_type": "stream",
     "text": [
      "23it [00:00, 91.87it/s] \n"
     ]
    },
    {
     "name": "stdout",
     "output_type": "stream",
     "text": [
      "{770, 1163, 1819, 2972, 2078, 2338, 1058, 4901, 38, 1705, 815, 1093, 3783, 1232, 3024, 3165, 1001, 4078, 2420, 1654, 2942}\n",
      "max_cover_tweak evaluate1\n"
     ]
    },
    {
     "name": "stderr",
     "output_type": "stream",
     "text": [
      "13it [00:19,  1.54s/it]"
     ]
    },
    {
     "name": "stdout",
     "output_type": "stream",
     "text": [
      "{4866, 1987, 1090, 1386, 3531, 3534, 48, 4593, 2611, 3860, 1075, 1688, 2206}\n"
     ]
    },
    {
     "name": "stderr",
     "output_type": "stream",
     "text": [
      "\n"
     ]
    }
   ],
   "source": [
    "run_alg(random_tweak, evaluate1)\n",
    "run_alg(max_cover_tweak, evaluate1)\n",
    "# run_alg(max_cover_tweak, evaluate2)"
   ]
  }
 ],
 "metadata": {
  "kernelspec": {
   "display_name": "Python 3.11.0 ('venv': venv)",
   "language": "python",
   "name": "python3"
  },
  "language_info": {
   "codemirror_mode": {
    "name": "ipython",
    "version": 3
   },
   "file_extension": ".py",
   "mimetype": "text/x-python",
   "name": "python",
   "nbconvert_exporter": "python",
   "pygments_lexer": "ipython3",
   "version": "3.11.0"
  },
  "vscode": {
   "interpreter": {
    "hash": "e8b3145ae2f8986a382e1d29057a790087de06911369db9ba2490276da319dff"
   }
  }
 },
 "nbformat": 4,
 "nbformat_minor": 5
}
