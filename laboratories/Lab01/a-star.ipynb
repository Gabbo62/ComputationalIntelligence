{
 "cells": [
  {
   "cell_type": "code",
   "execution_count": 39,
   "metadata": {},
   "outputs": [],
   "source": [
    "from random import random\n",
    "from functools import reduce\n",
    "from collections import namedtuple\n",
    "from queue import PriorityQueue, SimpleQueue\n",
    "\n",
    "import numpy as np\n",
    "\n",
    "from tqdm import tqdm"
   ]
  },
  {
   "cell_type": "code",
   "execution_count": 40,
   "metadata": {},
   "outputs": [],
   "source": [
    "PROBLEM_SIZE = 50\n",
    "NUM_SETS = 100\n",
    "# seed(10)\n",
    "SETS = tuple(\n",
    "    np.array([random() < 0.3 for _ in range(PROBLEM_SIZE)]) for _ in range(NUM_SETS)\n",
    ")\n",
    "State = namedtuple(\"State\", [\"taken\", \"not_taken\"])"
   ]
  },
  {
   "cell_type": "code",
   "execution_count": 41,
   "metadata": {},
   "outputs": [],
   "source": [
    "def goal_check(state):\n",
    "    return np.all(\n",
    "        reduce(\n",
    "            np.logical_or,\n",
    "            [SETS[i] for i in state.taken],\n",
    "            np.array([False for _ in range(PROBLEM_SIZE)]),\n",
    "        )\n",
    "    )\n",
    "    "
   ]
  },
  {
   "cell_type": "code",
   "execution_count": 42,
   "metadata": {},
   "outputs": [],
   "source": [
    "assert goal_check(State(set(range(NUM_SETS)), set())), \"Problem not solvable\""
   ]
  },
  {
   "cell_type": "markdown",
   "metadata": {},
   "source": [
    "First attempt to the solution. After further analysis it resulted to not find an optimal solution."
   ]
  },
  {
   "cell_type": "code",
   "execution_count": 43,
   "metadata": {},
   "outputs": [],
   "source": [
    "def distance(state):\n",
    "    return PROBLEM_SIZE - sum(\n",
    "        reduce(\n",
    "            np.logical_or,\n",
    "            [SETS[i] for i in state.taken],\n",
    "            np.array([False for _ in range(PROBLEM_SIZE)])\n",
    "        )\n",
    "    )\n",
    "    \n",
    "def cost_function1(state):\n",
    "    dist = distance(state)\n",
    "    n_taken = len(state.taken)\n",
    "    return dist + n_taken"
   ]
  },
  {
   "cell_type": "markdown",
   "metadata": {},
   "source": [
    "Second attempt: this time the solution seems to be always optimal (further test are always needed). \n",
    "\n",
    "It slows down the iteration time but is very fast to reach an optimal solution."
   ]
  },
  {
   "cell_type": "code",
   "execution_count": 44,
   "metadata": {},
   "outputs": [],
   "source": [
    "def covered(state):\n",
    "    return reduce(\n",
    "            np.logical_or,\n",
    "            [SETS[i] for i in state.taken],\n",
    "            [False for _ in range(PROBLEM_SIZE)],\n",
    "        )\n",
    "    \n",
    "    \n",
    "def max_left(state):    \n",
    "    _, res = max(\n",
    "        (sum(\n",
    "            np.logical_and(SETS[i], np.logical_not(covered(state)))\n",
    "        ), i) for i in state.not_taken\n",
    "    )\n",
    "    return res\n",
    "\n",
    "def h2(state):\n",
    "    n_step = 0\n",
    "    while not goal_check(state):\n",
    "        max = max_left(state)\n",
    "        state = State(state.taken ^ {max},\n",
    "                       state.not_taken ^ {max})\n",
    "        n_step += 1\n",
    "    \n",
    "    return n_step\n",
    "\n",
    "def cost_function2(state):\n",
    "    return len(state.taken) + h2(state)"
   ]
  },
  {
   "cell_type": "markdown",
   "metadata": {},
   "source": [
    "Code tested during the lectures provided from the professor: confronted with h2 it is much more faster in iteration computation but it needs more time to obtain the result (sometimes is the same set of tiles)"
   ]
  },
  {
   "cell_type": "code",
   "execution_count": 45,
   "metadata": {},
   "outputs": [],
   "source": [
    "def h3(state):\n",
    "    already_covered = covered(state)\n",
    "    if np.all(already_covered):\n",
    "        return 0\n",
    "    missing_size = PROBLEM_SIZE - sum(already_covered)\n",
    "    candidates = sorted((sum(np.logical_and(s, np.logical_not(already_covered))) for s in SETS), reverse=True)\n",
    "    taken = 1\n",
    "    while sum(candidates[:taken]) < missing_size:\n",
    "        taken += 1\n",
    "    return taken\n",
    "\n",
    "def cost_function3(state):\n",
    "    return len(state.taken) + h3(state)"
   ]
  },
  {
   "cell_type": "code",
   "execution_count": 46,
   "metadata": {},
   "outputs": [],
   "source": [
    "def a_star(cost_function):\n",
    "    frontier = PriorityQueue()\n",
    "    state = State(set(), set(range(NUM_SETS)))\n",
    "    frontier.put((cost_function(state), state))\n",
    "\n",
    "    counter = 0\n",
    "    _, current_state = frontier.get()\n",
    "    with tqdm(total=None) as pbar:\n",
    "        while not goal_check(current_state):\n",
    "            counter += 1\n",
    "            for action in current_state.not_taken:\n",
    "                new_state = State(\n",
    "                    current_state.taken ^ {action}, current_state.not_taken ^ {action}\n",
    "                )\n",
    "                frontier.put((cost_function(new_state), new_state))\n",
    "            _, current_state = frontier.get()\n",
    "            pbar.update(1)\n",
    "\n",
    "    print(f\"Solved in {counter:,} steps ({len(current_state.taken)} tiles)\")\n",
    "    return current_state"
   ]
  },
  {
   "cell_type": "code",
   "execution_count": 47,
   "metadata": {},
   "outputs": [
    {
     "name": "stderr",
     "output_type": "stream",
     "text": [
      "5it [00:00, 312.56it/s]"
     ]
    },
    {
     "name": "stdout",
     "output_type": "stream",
     "text": [
      "Solved in 5 steps (5 tiles)\n",
      "{2, 34, 35, 10, 89}\n",
      "Coverage is 50 with 5 tiles\n"
     ]
    },
    {
     "name": "stderr",
     "output_type": "stream",
     "text": [
      "\n"
     ]
    }
   ],
   "source": [
    "cost_function = cost_function1\n",
    "final_state = a_star(cost_function)\n",
    "print(final_state.taken)\n",
    "\n",
    "join = reduce(\n",
    "            np.logical_or,\n",
    "            [SETS[i] for i in final_state.taken],\n",
    "            np.array([False for _ in range(PROBLEM_SIZE)]),\n",
    "        )\n",
    "print(f\"Coverage is {sum(join)} with {len(final_state.taken)} tiles\")"
   ]
  },
  {
   "cell_type": "code",
   "execution_count": 48,
   "metadata": {},
   "outputs": [
    {
     "name": "stderr",
     "output_type": "stream",
     "text": [
      "0it [00:00, ?it/s]"
     ]
    },
    {
     "name": "stderr",
     "output_type": "stream",
     "text": [
      "86it [00:47,  1.81it/s]"
     ]
    },
    {
     "name": "stdout",
     "output_type": "stream",
     "text": [
      "Solved in 86 steps (5 tiles)\n",
      "{96, 68, 11, 13, 61}\n",
      "Coverage is 50 with 5 tiles\n"
     ]
    },
    {
     "name": "stderr",
     "output_type": "stream",
     "text": [
      "\n"
     ]
    }
   ],
   "source": [
    "cost_function = cost_function2\n",
    "final_state = a_star(cost_function)\n",
    "print(final_state.taken)\n",
    "\n",
    "join = reduce(\n",
    "            np.logical_or,\n",
    "            [SETS[i] for i in final_state.taken],\n",
    "            np.array([False for _ in range(PROBLEM_SIZE)]),\n",
    "        )\n",
    "print(f\"Coverage is {sum(join)} with {len(final_state.taken)} tiles\")"
   ]
  },
  {
   "cell_type": "code",
   "execution_count": 49,
   "metadata": {},
   "outputs": [
    {
     "name": "stderr",
     "output_type": "stream",
     "text": [
      "10836it [21:21,  8.45it/s]"
     ]
    },
    {
     "name": "stdout",
     "output_type": "stream",
     "text": [
      "Solved in 10,836 steps (5 tiles)\n",
      "{6, 72, 46, 84, 61}\n",
      "Coverage is 50 with 5 tiles\n"
     ]
    },
    {
     "name": "stderr",
     "output_type": "stream",
     "text": [
      "\n"
     ]
    }
   ],
   "source": [
    "cost_function = cost_function3\n",
    "final_state = a_star(cost_function)\n",
    "print(final_state.taken)\n",
    "\n",
    "join = reduce(\n",
    "            np.logical_or,\n",
    "            [SETS[i] for i in final_state.taken],\n",
    "            np.array([False for _ in range(PROBLEM_SIZE)]),\n",
    "        )\n",
    "print(f\"Coverage is {sum(join)} with {len(final_state.taken)} tiles\")"
   ]
  },
  {
   "cell_type": "markdown",
   "metadata": {},
   "source": [
    "# Test\n",
    "I've tested the several times on the google colab platform and collected some of the results in order to compare the performances.\n",
    "In each of them the outputs are highlighted in order to better show them because the format of the print where reordered in between the tests.\n",
    "\n",
    "In this test a strange behaviour occured for the third algorithm. In fact he didn't reached a solution but unfortunately I lost the SETS before having the chance to look at them and better understand the result.\n",
    "\n",
    "![Image of the first test](../Images/L01_first_result.png \"First test\")\n",
    "\n",
    "The second test allows to better analyze the differences at execution time of the last two algorithms. It can be seen what previously said: we have the third algorithm requiring more time to compute a similar solution to the second one. In both cases the solution covers correctly all the space. \n",
    "\n",
    "![Image of the second test](../Images/L01_second_result.png \"Second test\")\n",
    "\n",
    "In this test can be seen that the first algorithm doesn't always provide a optimal solution implying that the cost function was wrongly imposed. Meanwhile the second and the third one have provided the exactly same solution but with the second algorithm requiring much less time to obtain it.  \n",
    "\n",
    "![Image of the third test](../Images/L01_third_result.png \"Third test\")"
   ]
  },
  {
   "cell_type": "markdown",
   "metadata": {},
   "source": []
  }
 ],
 "metadata": {
  "kernelspec": {
   "display_name": "Python 3.11.0 ('venv': venv)",
   "language": "python",
   "name": "python3"
  },
  "language_info": {
   "codemirror_mode": {
    "name": "ipython",
    "version": 3
   },
   "file_extension": ".py",
   "mimetype": "text/x-python",
   "name": "python",
   "nbconvert_exporter": "python",
   "pygments_lexer": "ipython3",
   "version": "3.11.0"
  },
  "vscode": {
   "interpreter": {
    "hash": "e8b3145ae2f8986a382e1d29057a790087de06911369db9ba2490276da319dff"
   }
  }
 },
 "nbformat": 4,
 "nbformat_minor": 2
}
